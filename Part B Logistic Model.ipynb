{
 "cells": [
  {
   "cell_type": "code",
   "execution_count": 1,
   "metadata": {},
   "outputs": [],
   "source": [
    "from sklearn.model_selection import train_test_split\n",
    "from sklearn.linear_model import LogisticRegression\n",
    "import pandas as pd\n",
    "import numpy as np"
   ]
  },
  {
   "cell_type": "code",
   "execution_count": 2,
   "metadata": {},
   "outputs": [],
   "source": [
    "import warnings\n",
    "warnings.filterwarnings(\"ignore\")"
   ]
  },
  {
   "cell_type": "code",
   "execution_count": 3,
   "metadata": {},
   "outputs": [],
   "source": [
    "train_model_classification = pd.read_csv('train_model_classification.csv')"
   ]
  },
  {
   "cell_type": "code",
   "execution_count": 4,
   "metadata": {},
   "outputs": [],
   "source": [
    "train_model_classification = train_model_classification.drop('Unnamed: 0',axis=1)"
   ]
  },
  {
   "cell_type": "code",
   "execution_count": 5,
   "metadata": {},
   "outputs": [
    {
     "name": "stdout",
     "output_type": "stream",
     "text": [
      "588642\n",
      "255480\n"
     ]
    }
   ],
   "source": [
    "print(len(train_model_classification[train_model_classification['CrossedMeanSales']==1]))\n",
    "print(len(train_model_classification[train_model_classification['CrossedMeanSales']==0]))"
   ]
  },
  {
   "cell_type": "markdown",
   "metadata": {},
   "source": [
    "*Prints the number of rows with CrossedMeanSales 1 and 0 respectively*"
   ]
  },
  {
   "cell_type": "code",
   "execution_count": 6,
   "metadata": {},
   "outputs": [
    {
     "data": {
      "text/plain": [
       "Index(['Store', 'DayOfWeek', 'Sales', 'Open', 'Promo', 'StateHoliday',\n",
       "       'SchoolHoliday', 'Year', 'Month', 'StoreType', 'Assortment',\n",
       "       'CompetitionDistance', 'CompetitionOpenSinceMonth',\n",
       "       'CompetitionOpenSinceYear', 'Promo2', 'Promo2SinceWeek',\n",
       "       'Promo2SinceYear', 'PromoInterval', 'MeanSalesStore',\n",
       "       'CrossedMeanSales'],\n",
       "      dtype='object')"
      ]
     },
     "execution_count": 6,
     "metadata": {},
     "output_type": "execute_result"
    }
   ],
   "source": [
    "train_model_classification.columns"
   ]
  },
  {
   "cell_type": "code",
   "execution_count": 7,
   "metadata": {},
   "outputs": [],
   "source": [
    "train_model_classification = train_model_classification.drop('Sales',axis=1)\n",
    "train_model_classification = train_model_classification.drop('MeanSalesStore',axis=1)"
   ]
  },
  {
   "cell_type": "markdown",
   "metadata": {},
   "source": [
    "**Logistic Regression**"
   ]
  },
  {
   "cell_type": "code",
   "execution_count": 8,
   "metadata": {},
   "outputs": [
    {
     "name": "stdout",
     "output_type": "stream",
     "text": [
      "Accuracy: 99.99246125624191\n"
     ]
    }
   ],
   "source": [
    "array = train_model_classification.values\n",
    "X = train_model_classification.drop('CrossedMeanSales', axis=1)\n",
    "Y = train_model_classification['CrossedMeanSales']\n",
    "test_size = 0.33\n",
    "seed = 7\n",
    "X_train, X_test, Y_train, Y_test = train_test_split(X, Y, test_size=test_size,\n",
    "random_state=seed)\n",
    "model = LogisticRegression()\n",
    "model.fit(X_train, Y_train)\n",
    "result = model.score(X_test, Y_test)\n",
    "print(\"Accuracy:\",result*100.0)"
   ]
  },
  {
   "cell_type": "markdown",
   "metadata": {},
   "source": [
    "*accuracy = (correct predictions / total predictions) *100*\n",
    "\n",
    "*The accuracy is 74.6%. This means 74.6% of data is classified correctly.*"
   ]
  },
  {
   "cell_type": "code",
   "execution_count": 9,
   "metadata": {},
   "outputs": [
    {
     "name": "stdout",
     "output_type": "stream",
     "text": [
      "Confusion Matrix\n",
      "[[ 84111     21]\n",
      " [     0 194429]]\n"
     ]
    }
   ],
   "source": [
    "from sklearn.metrics import confusion_matrix\n",
    "predicted = model.predict(X_test)\n",
    "matrix = confusion_matrix(Y_test, predicted) \n",
    "print(\"Confusion Matrix\")\n",
    "print(matrix)"
   ]
  },
  {
   "cell_type": "markdown",
   "metadata": {},
   "source": [
    "*The top left value is the True - Positive i.e, 51386 rows are classified correctly*\n",
    "\n",
    "*The bottom right value is the True - Negative i.e, 156443 rows are not classified*\n",
    "\n",
    "*The botton left value is the False - Negative i.e, 37986*\n",
    "\n",
    "*The top right value is the False - Positive  i.e, 32746*"
   ]
  },
  {
   "cell_type": "markdown",
   "metadata": {},
   "source": [
    "**Logistic regression with cross validation**"
   ]
  },
  {
   "cell_type": "code",
   "execution_count": 10,
   "metadata": {},
   "outputs": [
    {
     "name": "stdout",
     "output_type": "stream",
     "text": [
      "Accuracy: 0.9998921425359126\n"
     ]
    }
   ],
   "source": [
    "from sklearn.model_selection import KFold \n",
    "from sklearn.model_selection import cross_val_score\n",
    "\n",
    "kfold = KFold(n_splits=5, random_state=7)  \n",
    "scoring = 'roc_auc' \n",
    "#results = cross_val_score(model, X_train, Y_train, cv=kfold, scoring=scoring)\n",
    "#print(\"AUC:\",results.mean())\n",
    "results = cross_val_score(model, X_train, Y_train, cv=kfold, scoring=\"accuracy\")\n",
    "print(\"Accuracy:\",results.mean())"
   ]
  },
  {
   "cell_type": "markdown",
   "metadata": {},
   "source": [
    "*accuracy = (correct predictions / total predictions)*\n",
    "\n",
    "*The accuracy is 99.9%. This means 99.9% of data is classified correctly.*"
   ]
  },
  {
   "cell_type": "markdown",
   "metadata": {},
   "source": [
    "**Logistic Regression with SGD and Data Normalization**"
   ]
  },
  {
   "cell_type": "code",
   "execution_count": 17,
   "metadata": {},
   "outputs": [
    {
     "name": "stdout",
     "output_type": "stream",
     "text": [
      "AUC: 0.8210121702588463\n"
     ]
    }
   ],
   "source": [
    "from sklearn.preprocessing import StandardScaler\n",
    "from sklearn.pipeline import Pipeline\n",
    "from sklearn.linear_model import SGDClassifier\n",
    "\n",
    "logistic = SGDClassifier(loss='log', penalty='l2', early_stopping=True,\n",
    "                         max_iter=10000, tol=1e-5, random_state=0)\n",
    "\n",
    "\n",
    "pipeline_order_logistic = [('scaler', StandardScaler()), ('logistic', logistic)]\n",
    "\n",
    "Model_Pipeline_logistic = Pipeline(pipeline_order_logistic)\n",
    "\n",
    "# evaluate pipeline\n",
    "kfold = KFold(n_splits=3, random_state=7)\n",
    "results = cross_val_score(Model_Pipeline_logistic, X_train, Y_train, cv=kfold,scoring= 'roc_auc')\n",
    "Model_Pipeline_logistic.fit(X_train, Y_train)\n",
    "preds = Model_Pipeline_logistic.predict(X_test)\n",
    "print(\"AUC:\",results.mean())"
   ]
  },
  {
   "cell_type": "markdown",
   "metadata": {},
   "source": [
    "*accuracy = (correct predictions / total predictions)*\n",
    "\n",
    "*The accuracy is 82.1%. This means 82.1% of data is classified correctly.*"
   ]
  },
  {
   "cell_type": "code",
   "execution_count": 12,
   "metadata": {},
   "outputs": [
    {
     "name": "stdout",
     "output_type": "stream",
     "text": [
      "Confusion Matrix\n",
      "[[ 53963  30169]\n",
      " [ 40362 154067]]\n"
     ]
    }
   ],
   "source": [
    "matrix = confusion_matrix(Y_test, preds) \n",
    "print(\"Confusion Matrix\")\n",
    "print(matrix)"
   ]
  },
  {
   "cell_type": "markdown",
   "metadata": {},
   "source": [
    "*The top left value is the True - Positive i.e, 53963 rows are classified correctly*\n",
    "\n",
    "*The bottom right value is the True - Negative i.e, 154067 rows are not classified*\n",
    "\n",
    "*The botton left value is the False - Negative i.e, 40362*\n",
    "\n",
    "*The top right value is the False - Positive  i.e, 30169*"
   ]
  },
  {
   "cell_type": "code",
   "execution_count": 14,
   "metadata": {},
   "outputs": [
    {
     "name": "stdout",
     "output_type": "stream",
     "text": [
      "Accuracy for logistic regression with SGD 74.68023161892728\n"
     ]
    }
   ],
   "source": [
    "print(\"Accuracy for logistic regression with SGD\",Model_Pipeline_logistic.score(X_test,Y_test)*100)"
   ]
  },
  {
   "cell_type": "markdown",
   "metadata": {},
   "source": [
    "**Calculate the probability of getting the dependent variable**\n"
   ]
  },
  {
   "cell_type": "markdown",
   "metadata": {},
   "source": [
    "*Probability = correct predictions/ total predictions*\n",
    "\n",
    "*Here, the probability is 0.74*"
   ]
  }
 ],
 "metadata": {
  "kernelspec": {
   "display_name": "Python 3",
   "language": "python",
   "name": "python3"
  },
  "language_info": {
   "codemirror_mode": {
    "name": "ipython",
    "version": 3
   },
   "file_extension": ".py",
   "mimetype": "text/x-python",
   "name": "python",
   "nbconvert_exporter": "python",
   "pygments_lexer": "ipython3",
   "version": "3.7.1"
  }
 },
 "nbformat": 4,
 "nbformat_minor": 2
}
